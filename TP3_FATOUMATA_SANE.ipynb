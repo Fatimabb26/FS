{
  "nbformat": 4,
  "nbformat_minor": 0,
  "metadata": {
    "colab": {
      "name": "TP3-FATOUMATA SANE.ipynb",
      "provenance": [],
      "collapsed_sections": [],
      "authorship_tag": "ABX9TyOMHCUaHKXeZ8z580kg5auV",
      "include_colab_link": true
    },
    "kernelspec": {
      "name": "python3",
      "display_name": "Python 3"
    },
    "language_info": {
      "name": "python"
    }
  },
  "cells": [
    {
      "cell_type": "markdown",
      "metadata": {
        "id": "view-in-github",
        "colab_type": "text"
      },
      "source": [
        "<a href=\"https://colab.research.google.com/github/Fatimabb26/FS/blob/main/TP3_FATOUMATA_SANE.ipynb\" target=\"_parent\"><img src=\"https://colab.research.google.com/assets/colab-badge.svg\" alt=\"Open In Colab\"/></a>"
      ]
    },
    {
      "cell_type": "code",
      "metadata": {
        "id": "UubWxq9pR8UQ"
      },
      "source": [
        "%load_ext rpy2.ipython"
      ],
      "execution_count": 1,
      "outputs": []
    },
    {
      "cell_type": "code",
      "metadata": {
        "id": "MHMDq8hrTL1c"
      },
      "source": [
        "%%R\n",
        "install.packages(\"BioStatR\")"
      ],
      "execution_count": null,
      "outputs": []
    },
    {
      "cell_type": "code",
      "metadata": {
        "id": "0cija5NcUbRM"
      },
      "source": [
        "%%R\n",
        "library(BioStatR)"
      ],
      "execution_count": 5,
      "outputs": []
    },
    {
      "cell_type": "code",
      "metadata": {
        "colab": {
          "base_uri": "https://localhost:8080/",
          "height": 549
        },
        "id": "URln72CxVwKe",
        "outputId": "53882263-cdf7-48c9-eca1-15c359bc1bb2"
      },
      "source": [
        "%%R\n",
        "head(Europe)\n",
        "str(Europe)\n",
        "summary(Europe)\n",
        "range(Europe$Duree)\n",
        "sd(Europe$Duree)\n",
        "boxplot(Europe$Duree,ylab=\"Duree (heures)\")\n",
        "points(1,mean(Europe$Duree),pch=2)"
      ],
      "execution_count": 6,
      "outputs": [
        {
          "output_type": "stream",
          "name": "stdout",
          "text": [
            "'data.frame':\t25 obs. of  2 variables:\n",
            " $ Pays : Factor w/ 25 levels \"Allemagne\",\"Autriche\",..: 1 2 3 4 5 6 7 8 9 10 ...\n",
            " $ Duree: num  41.7 44.1 41 41.8 40.5 42.2 41.5 40.5 41 44.1 ...\n"
          ]
        },
        {
          "output_type": "display_data",
          "data": {
            "image/png": "[encoded data removed]"
          },
          "metadata": {}
        }
      ]
    },
    {
      "cell_type": "code",
      "metadata": {
        "id": "bOjA8sRsbtBL"
      },
      "source": [
        "#EXERCICE3"
      ],
      "execution_count": 7,
      "outputs": []
    },
    {
      "cell_type": "code",
      "metadata": {
        "colab": {
          "base_uri": "https://localhost:8080/"
        },
        "id": "okpYAONrby8v",
        "outputId": "393c7600-3ad1-4b5c-eb40-89fb6fa0d1c2"
      },
      "source": [
        "%%R\n",
        "install.packages(\"Mini manuel de probabilités et statistique\")"
      ],
      "execution_count": 10,
      "outputs": [
        {
          "output_type": "stream",
          "name": "stderr",
          "text": [
            "R[write to console]: Installing package into ‘/usr/local/lib/R/site-library’\n",
            "(as ‘lib’ is unspecified)\n",
            "\n"
          ]
        }
      ]
    },
    {
      "cell_type": "code",
      "metadata": {
        "id": "rII0ilemlGV9"
      },
      "source": [
        "%%R\n",
        "Femmes<-c(105,110,112,112,118,119,120,125,126,127,128,130,132,133,134,135,138,138,138,138,142,145,148,148,150,151,154,154,158)\n",
        "hommes<-c(141,144,146,148,149,150,150,151,153,153,153,154,155,156,156,160,160,160,163,164,164,165,166,168,168,170,172,172,176,179)\n",
        "\n",
        "\n"
      ],
      "execution_count": 17,
      "outputs": []
    },
    {
      "cell_type": "code",
      "metadata": {
        "id": "PXdJjmozuAiu"
      },
      "source": [
        "%%R\n",
        "effectifs<-table(Femmes)"
      ],
      "execution_count": 52,
      "outputs": []
    },
    {
      "cell_type": "code",
      "metadata": {
        "colab": {
          "base_uri": "https://localhost:8080/"
        },
        "id": "wVYHBqA5B94O",
        "outputId": "d72fa432-f353-498c-bbcc-f0451b980700"
      },
      "source": [
        "%%R\n",
        "effectifs"
      ],
      "execution_count": 53,
      "outputs": [
        {
          "output_type": "stream",
          "name": "stdout",
          "text": [
            "Femmes\n",
            "105 110 112 118 119 120 125 126 127 128 130 132 133 134 135 138 142 145 148 150 \n",
            "  1   1   2   1   1   1   1   1   1   1   1   1   1   1   1   4   1   1   2   1 \n",
            "151 154 158 \n",
            "  1   2   1 \n"
          ]
        }
      ]
    },
    {
      "cell_type": "code",
      "metadata": {
        "id": "U4cgV8-5CZjS"
      },
      "source": [
        "%%R\n",
        "effectif<-table(hommes)"
      ],
      "execution_count": 47,
      "outputs": []
    },
    {
      "cell_type": "code",
      "metadata": {
        "colab": {
          "base_uri": "https://localhost:8080/"
        },
        "id": "_pTlMzzFCrOs",
        "outputId": "779c6d48-02b2-497c-ec5f-9b22466337cb"
      },
      "source": [
        "%%R\n",
        "effectif"
      ],
      "execution_count": 48,
      "outputs": [
        {
          "output_type": "stream",
          "name": "stdout",
          "text": [
            "hommes\n",
            "141 144 146 148 149 150 151 153 154 155 156 160 163 164 165 166 168 170 172 176 \n",
            "  1   1   1   1   1   2   1   3   1   1   2   3   1   2   1   1   2   1   2   1 \n",
            "179 \n",
            "  1 \n"
          ]
        }
      ]
    },
    {
      "cell_type": "code",
      "metadata": {
        "id": "ZPgVPNU4CzPO"
      },
      "source": [
        "%%R\n",
        "frequences<-effectifs*100/length(Femmes)"
      ],
      "execution_count": 55,
      "outputs": []
    },
    {
      "cell_type": "code",
      "metadata": {
        "colab": {
          "base_uri": "https://localhost:8080/"
        },
        "id": "x50F0Q_fDXFx",
        "outputId": "06344578-4da0-4921-8343-d55c82cedbeb"
      },
      "source": [
        "%%R\n",
        "frequences"
      ],
      "execution_count": 56,
      "outputs": [
        {
          "output_type": "stream",
          "name": "stdout",
          "text": [
            "Femmes\n",
            "      105       110       112       118       119       120       125       126 \n",
            " 3.448276  3.448276  6.896552  3.448276  3.448276  3.448276  3.448276  3.448276 \n",
            "      127       128       130       132       133       134       135       138 \n",
            " 3.448276  3.448276  3.448276  3.448276  3.448276  3.448276  3.448276 13.793103 \n",
            "      142       145       148       150       151       154       158 \n",
            " 3.448276  3.448276  6.896552  3.448276  3.448276  6.896552  3.448276 \n"
          ]
        }
      ]
    },
    {
      "cell_type": "code",
      "metadata": {
        "id": "4eeKDQ0sD2c1"
      },
      "source": [
        "%%R\n",
        "frequence<-effectif*100/length(hommes)"
      ],
      "execution_count": 58,
      "outputs": []
    },
    {
      "cell_type": "code",
      "metadata": {
        "colab": {
          "base_uri": "https://localhost:8080/"
        },
        "id": "C5OjqiMoEP1O",
        "outputId": "0353fa87-0669-40c3-dd9b-71365d49f011"
      },
      "source": [
        "%%R\n",
        "frequence\n"
      ],
      "execution_count": 60,
      "outputs": [
        {
          "output_type": "stream",
          "name": "stdout",
          "text": [
            "hommes\n",
            "      141       144       146       148       149       150       151       153 \n",
            " 3.333333  3.333333  3.333333  3.333333  3.333333  6.666667  3.333333 10.000000 \n",
            "      154       155       156       160       163       164       165       166 \n",
            " 3.333333  3.333333  6.666667 10.000000  3.333333  6.666667  3.333333  3.333333 \n",
            "      168       170       172       176       179 \n",
            " 6.666667  3.333333  6.666667  3.333333  3.333333 \n"
          ]
        }
      ]
    },
    {
      "cell_type": "code",
      "metadata": {
        "id": "V7N0k1fPFD0T"
      },
      "source": [
        "#question2\n"
      ],
      "execution_count": 63,
      "outputs": []
    },
    {
      "cell_type": "code",
      "metadata": {
        "id": "XT-MmJo6Gh0z"
      },
      "source": [
        "%%R\n",
        "plot(effectifs,xlab=\"nombres de Femmes\",ylab=\"effectifs\",family=\"Humor Sans\")"
      ],
      "execution_count": null,
      "outputs": []
    },
    {
      "cell_type": "code",
      "metadata": {
        "id": "rQArq-mJJ0T_"
      },
      "source": [
        "%%R\n",
        "plot(effectif,xlab=\"nombre d'hommes\",ylab=\"effectif\",family=\"Humor Sans\")"
      ],
      "execution_count": null,
      "outputs": []
    },
    {
      "cell_type": "code",
      "metadata": {
        "id": "QJqVTr0AKRqE"
      },
      "source": [
        "#question4\n"
      ],
      "execution_count": 70,
      "outputs": []
    },
    {
      "cell_type": "code",
      "metadata": {
        "id": "gFSeMG9aLgeq"
      },
      "source": [
        ""
      ],
      "execution_count": null,
      "outputs": []
    },
    {
      "cell_type": "code",
      "metadata": {
        "id": "2fx5Lx7YKX1y"
      },
      "source": [
        "%%R\n",
        "mean(Femmes)"
      ],
      "execution_count": null,
      "outputs": []
    },
    {
      "cell_type": "code",
      "metadata": {
        "colab": {
          "base_uri": "https://localhost:8080/"
        },
        "id": "T9enVxh6LCmA",
        "outputId": "4d2fcf9a-ca0e-4004-e3d7-6630bbdd7f47"
      },
      "source": [
        "%%R\n",
        "mean(hommes)"
      ],
      "execution_count": 69,
      "outputs": [
        {
          "output_type": "stream",
          "name": "stdout",
          "text": [
            "[1] 158.8667\n"
          ]
        }
      ]
    },
    {
      "cell_type": "code",
      "metadata": {
        "id": "JmXPjglTLnHK"
      },
      "source": [
        "#question6"
      ],
      "execution_count": 72,
      "outputs": []
    },
    {
      "cell_type": "code",
      "metadata": {
        "colab": {
          "base_uri": "https://localhost:8080/"
        },
        "id": "w3wuZ3ScLty2",
        "outputId": "670c28fd-0760-4380-a9b1-a3852aebc388"
      },
      "source": [
        "%%R\n",
        "median(Femmes)"
      ],
      "execution_count": 73,
      "outputs": [
        {
          "output_type": "stream",
          "name": "stdout",
          "text": [
            "[1] 134\n"
          ]
        }
      ]
    },
    {
      "cell_type": "code",
      "metadata": {
        "colab": {
          "base_uri": "https://localhost:8080/"
        },
        "id": "VBvS4ZaOMHJO",
        "outputId": "d228b9f7-3a92-4c13-f32e-f5224a7850b1"
      },
      "source": [
        "%%R\n",
        "median(hommes)"
      ],
      "execution_count": 74,
      "outputs": [
        {
          "output_type": "stream",
          "name": "stdout",
          "text": [
            "[1] 158\n"
          ]
        }
      ]
    },
    {
      "cell_type": "code",
      "metadata": {
        "id": "FIyUYNEzMPNm"
      },
      "source": [
        "#question7"
      ],
      "execution_count": 75,
      "outputs": []
    },
    {
      "cell_type": "code",
      "metadata": {
        "id": "PfWKJYqTMX52"
      },
      "source": [
        "%%R\n",
        "var(Femmes)"
      ],
      "execution_count": null,
      "outputs": []
    },
    {
      "cell_type": "code",
      "metadata": {
        "id": "XoaS_7zOOGEf"
      },
      "source": [
        "%%R\n",
        "var(hommes)"
      ],
      "execution_count": null,
      "outputs": []
    },
    {
      "cell_type": "code",
      "metadata": {
        "id": "kl85vN9EOMi7"
      },
      "source": [
        "%%R\n",
        "sd(Femmes)"
      ],
      "execution_count": null,
      "outputs": []
    },
    {
      "cell_type": "code",
      "metadata": {
        "id": "Ip2lijAlOZDS"
      },
      "source": [
        "%%R\n",
        "sd(hommes)"
      ],
      "execution_count": null,
      "outputs": []
    }
  ]
}